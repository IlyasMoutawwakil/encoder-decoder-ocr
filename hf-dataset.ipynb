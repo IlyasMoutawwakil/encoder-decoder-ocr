{
 "cells": [
  {
   "cell_type": "code",
   "execution_count": 43,
   "metadata": {},
   "outputs": [
    {
     "name": "stderr",
     "output_type": "stream",
     "text": [
      "Found cached dataset wikipedia (/usr/users/sdi1/sdi1_29/.cache/huggingface/datasets/wikipedia/20220301.fr/2.0.0/aa542ed919df55cc5d3347f42dd4521d05ca68751f50dbc32bae2a7f1e167559)\n",
      "Found cached dataset wikipedia (/usr/users/sdi1/sdi1_29/.cache/huggingface/datasets/wikipedia/20220301.fr/2.0.0/aa542ed919df55cc5d3347f42dd4521d05ca68751f50dbc32bae2a7f1e167559)\n"
     ]
    }
   ],
   "source": [
    "from configs import CHARACTERS, DATASET_NAME\n",
    "import datasets as ds\n",
    "\n",
    "dataset_name = DATASET_NAME['fr']\n",
    "characters = CHARACTERS['fr']\n",
    "\n",
    "train_dataset = ds.load_dataset(\n",
    "    'wikipedia',\n",
    "    dataset_name,\n",
    "    split='train[:10%]',\n",
    ")\n",
    "val_dataset = ds.load_dataset(\n",
    "    'wikipedia',\n",
    "    dataset_name,\n",
    "    split='train[-10%:]',\n",
    ")\n"
   ]
  },
  {
   "cell_type": "code",
   "execution_count": 44,
   "metadata": {},
   "outputs": [
    {
     "name": "stderr",
     "output_type": "stream",
     "text": [
      "Loading cached processed dataset at /usr/users/sdi1/sdi1_29/.cache/huggingface/datasets/wikipedia/20220301.fr/2.0.0/aa542ed919df55cc5d3347f42dd4521d05ca68751f50dbc32bae2a7f1e167559/cache-820bf2bcd5e75b29_*_of_00008.arrow\n",
      "Loading cached processed dataset at /usr/users/sdi1/sdi1_29/.cache/huggingface/datasets/wikipedia/20220301.fr/2.0.0/aa542ed919df55cc5d3347f42dd4521d05ca68751f50dbc32bae2a7f1e167559/cache-837ed06c85f677c5_*_of_00008.arrow\n"
     ]
    }
   ],
   "source": [
    "from dataset.wikipedia_dataset import preprocess_dataset\n",
    "\n",
    "train_dataset = preprocess_dataset(\n",
    "    train_dataset,\n",
    "    num_proc=8, \n",
    "    allowed_characters=characters,\n",
    ")\n",
    "val_dataset = preprocess_dataset(\n",
    "    val_dataset,\n",
    "    num_proc=8, \n",
    "    allowed_characters=characters,\n",
    ")"
   ]
  },
  {
   "cell_type": "code",
   "execution_count": 45,
   "metadata": {},
   "outputs": [],
   "source": [
    "from dataset.textline_dataset import TextLineDataset\n",
    "\n",
    "train_dataset = TextLineDataset(\n",
    "    dataset=train_dataset,\n",
    "    transform=None,\n",
    "    model_max_length=96,\n",
    ")\n",
    "val_dataset = TextLineDataset(\n",
    "    dataset=val_dataset,\n",
    "    transform=None,\n",
    "    model_max_length=96,\n",
    ")"
   ]
  },
  {
   "cell_type": "code",
   "execution_count": 46,
   "metadata": {},
   "outputs": [],
   "source": [
    "folder = 'data/train'\n",
    "dataset = train_dataset"
   ]
  },
  {
   "cell_type": "code",
   "execution_count": 57,
   "metadata": {},
   "outputs": [
    {
     "name": "stdout",
     "output_type": "stream",
     "text": [
      "last_file_index: 0\n"
     ]
    }
   ],
   "source": [
    "import pandas as pd\n",
    "\n",
    "try:\n",
    "    df = pd.read_csv(f'{folder}/metadata.csv')\n",
    "    last_file_index = int(df['filename'].str.split('.').str[0].max())\n",
    "except Exception:\n",
    "    df = pd.DataFrame(columns=['filename', 'text'])\n",
    "    df.to_csv(f'{folder}/metadata.csv', index=False)\n",
    "    last_file_index = 0\n",
    "\n",
    "print(f'last_file_index: {last_file_index}')"
   ]
  },
  {
   "cell_type": "code",
   "execution_count": 58,
   "metadata": {},
   "outputs": [
    {
     "name": "stderr",
     "output_type": "stream",
     "text": [
      "  0%|          | 29/9999 [00:35<3:21:31,  1.21s/it]\n"
     ]
    },
    {
     "ename": "KeyboardInterrupt",
     "evalue": "",
     "output_type": "error",
     "traceback": [
      "\u001b[0;31m---------------------------------------------------------------------------\u001b[0m",
      "\u001b[0;31mKeyboardInterrupt\u001b[0m                         Traceback (most recent call last)",
      "Cell \u001b[0;32mIn[58], line 8\u001b[0m\n\u001b[1;32m      5\u001b[0m \u001b[39mfor\u001b[39;00m i \u001b[39min\u001b[39;00m tqdm(\u001b[39mrange\u001b[39m(last_file_index\u001b[39m+\u001b[39m\u001b[39m1\u001b[39m, \u001b[39m10000\u001b[39m)):\n\u001b[1;32m      7\u001b[0m     filename \u001b[39m=\u001b[39m \u001b[39mf\u001b[39m\u001b[39m'\u001b[39m\u001b[39m{\u001b[39;00mi\u001b[39m:\u001b[39;00m\u001b[39m05d\u001b[39m\u001b[39m}\u001b[39;00m\u001b[39m.png\u001b[39m\u001b[39m'\u001b[39m\n\u001b[0;32m----> 8\u001b[0m     sample \u001b[39m=\u001b[39m train_dataset[i]\n\u001b[1;32m     10\u001b[0m     image \u001b[39m=\u001b[39m sample[\u001b[39m'\u001b[39m\u001b[39mpixels\u001b[39m\u001b[39m'\u001b[39m]\n\u001b[1;32m     11\u001b[0m     image\u001b[39m.\u001b[39msave(\u001b[39mf\u001b[39m\u001b[39m'\u001b[39m\u001b[39m{\u001b[39;00mfolder\u001b[39m}\u001b[39;00m\u001b[39m/\u001b[39m\u001b[39m{\u001b[39;00mfilename\u001b[39m}\u001b[39;00m\u001b[39m'\u001b[39m)\n",
      "File \u001b[0;32m~/encoder-decoder-ocr/dataset/textline_dataset.py:29\u001b[0m, in \u001b[0;36mTextLineDataset.__getitem__\u001b[0;34m(self, idx)\u001b[0m\n\u001b[1;32m     23\u001b[0m line \u001b[39m=\u001b[39m random\u001b[39m.\u001b[39mchoice(\u001b[39mself\u001b[39m\u001b[39m.\u001b[39mdataset[idx][\u001b[39m'\u001b[39m\u001b[39mlines\u001b[39m\u001b[39m'\u001b[39m])\n\u001b[1;32m     24\u001b[0m text \u001b[39m=\u001b[39m get_random_cut(\n\u001b[1;32m     25\u001b[0m     line, max_length\u001b[39m=\u001b[39m\u001b[39mself\u001b[39m\u001b[39m.\u001b[39mmodel_max_length \u001b[39m-\u001b[39m \u001b[39m2\u001b[39m,\n\u001b[1;32m     26\u001b[0m     \u001b[39m# minus two for the [BOS] and [EOS] tokens\u001b[39;00m\n\u001b[1;32m     27\u001b[0m )\n\u001b[0;32m---> 29\u001b[0m image \u001b[39m=\u001b[39m generate_line(line)\n\u001b[1;32m     31\u001b[0m \u001b[39mif\u001b[39;00m \u001b[39mself\u001b[39m\u001b[39m.\u001b[39mtransform \u001b[39mis\u001b[39;00m \u001b[39mnot\u001b[39;00m \u001b[39mNone\u001b[39;00m:\n\u001b[1;32m     32\u001b[0m     pixels \u001b[39m=\u001b[39m \u001b[39mself\u001b[39m\u001b[39m.\u001b[39mtransform(image)\n",
      "File \u001b[0;32m~/encoder-decoder-ocr/dataset/line_generator.py:72\u001b[0m, in \u001b[0;36mgenerate_line\u001b[0;34m(text)\u001b[0m\n\u001b[1;32m     27\u001b[0m gen_params \u001b[39m=\u001b[39m \u001b[39mdict\u001b[39m(\n\u001b[1;32m     28\u001b[0m     \u001b[39m# fixed parameters\u001b[39;00m\n\u001b[1;32m     29\u001b[0m     index\u001b[39m=\u001b[39m\u001b[39m0\u001b[39m,\n\u001b[0;32m   (...)\u001b[0m\n\u001b[1;32m     68\u001b[0m     fit\u001b[39m=\u001b[39mrandom\u001b[39m.\u001b[39mchoice([\u001b[39mTrue\u001b[39;00m, \u001b[39mFalse\u001b[39;00m]),\n\u001b[1;32m     69\u001b[0m )\n\u001b[1;32m     71\u001b[0m \u001b[39mtry\u001b[39;00m:\n\u001b[0;32m---> 72\u001b[0m     image \u001b[39m=\u001b[39m FakeTextDataGenerator\u001b[39m.\u001b[39;49mgenerate(\n\u001b[1;32m     73\u001b[0m         text\u001b[39m=\u001b[39;49mtext,\n\u001b[1;32m     74\u001b[0m         \u001b[39m*\u001b[39;49m\u001b[39m*\u001b[39;49mgen_params,\n\u001b[1;32m     75\u001b[0m     )\n\u001b[1;32m     76\u001b[0m \u001b[39mexcept\u001b[39;00m \u001b[39mException\u001b[39;00m \u001b[39mas\u001b[39;00m e:\n\u001b[1;32m     77\u001b[0m     \u001b[39m# sometimes the generator fails due to a bad combination of parameters\u001b[39;00m\n\u001b[1;32m     78\u001b[0m     \u001b[39mreturn\u001b[39;00m generate_line(text)\n",
      "File \u001b[0;32m~/micromamba/lib/python3.9/site-packages/trdg/data_generator.py:72\u001b[0m, in \u001b[0;36mFakeTextDataGenerator.generate\u001b[0;34m(cls, index, text, font, out_dir, size, extension, skewing_angle, random_skew, blur, random_blur, background_type, distorsion_type, distorsion_orientation, is_handwritten, name_format, width, alignment, text_color, orientation, space_width, character_spacing, margins, fit, output_mask, word_split, image_dir, stroke_width, stroke_fill, image_mode, output_bboxes)\u001b[0m\n\u001b[1;32m     70\u001b[0m     image, mask \u001b[39m=\u001b[39m handwritten_text_generator\u001b[39m.\u001b[39mgenerate(text, text_color)\n\u001b[1;32m     71\u001b[0m \u001b[39melse\u001b[39;00m:\n\u001b[0;32m---> 72\u001b[0m     image, mask \u001b[39m=\u001b[39m computer_text_generator\u001b[39m.\u001b[39;49mgenerate(\n\u001b[1;32m     73\u001b[0m         text,\n\u001b[1;32m     74\u001b[0m         font,\n\u001b[1;32m     75\u001b[0m         text_color,\n\u001b[1;32m     76\u001b[0m         size,\n\u001b[1;32m     77\u001b[0m         orientation,\n\u001b[1;32m     78\u001b[0m         space_width,\n\u001b[1;32m     79\u001b[0m         character_spacing,\n\u001b[1;32m     80\u001b[0m         fit,\n\u001b[1;32m     81\u001b[0m         word_split,\n\u001b[1;32m     82\u001b[0m         stroke_width, \n\u001b[1;32m     83\u001b[0m         stroke_fill,\n\u001b[1;32m     84\u001b[0m     )\n\u001b[1;32m     85\u001b[0m random_angle \u001b[39m=\u001b[39m rnd\u001b[39m.\u001b[39mrandint(\u001b[39m0\u001b[39m \u001b[39m-\u001b[39m skewing_angle, skewing_angle)\n\u001b[1;32m     87\u001b[0m rotated_img \u001b[39m=\u001b[39m image\u001b[39m.\u001b[39mrotate(\n\u001b[1;32m     88\u001b[0m     skewing_angle \u001b[39mif\u001b[39;00m \u001b[39mnot\u001b[39;00m random_skew \u001b[39melse\u001b[39;00m random_angle, expand\u001b[39m=\u001b[39m\u001b[39m1\u001b[39m\n\u001b[1;32m     89\u001b[0m )\n",
      "File \u001b[0;32m~/micromamba/lib/python3.9/site-packages/trdg/computer_text_generator.py:36\u001b[0m, in \u001b[0;36mgenerate\u001b[0;34m(text, font, text_color, font_size, orientation, space_width, character_spacing, fit, word_split, stroke_width, stroke_fill)\u001b[0m\n\u001b[1;32m     22\u001b[0m \u001b[39mdef\u001b[39;00m \u001b[39mgenerate\u001b[39m(\n\u001b[1;32m     23\u001b[0m     text,\n\u001b[1;32m     24\u001b[0m     font,\n\u001b[0;32m   (...)\u001b[0m\n\u001b[1;32m     33\u001b[0m     stroke_fill\u001b[39m=\u001b[39m\u001b[39m\"\u001b[39m\u001b[39m#282828\u001b[39m\u001b[39m\"\u001b[39m,\n\u001b[1;32m     34\u001b[0m ):\n\u001b[1;32m     35\u001b[0m     \u001b[39mif\u001b[39;00m orientation \u001b[39m==\u001b[39m \u001b[39m0\u001b[39m:\n\u001b[0;32m---> 36\u001b[0m         \u001b[39mreturn\u001b[39;00m _generate_horizontal_text(\n\u001b[1;32m     37\u001b[0m             text,\n\u001b[1;32m     38\u001b[0m             font,\n\u001b[1;32m     39\u001b[0m             text_color,\n\u001b[1;32m     40\u001b[0m             font_size,\n\u001b[1;32m     41\u001b[0m             space_width,\n\u001b[1;32m     42\u001b[0m             character_spacing,\n\u001b[1;32m     43\u001b[0m             fit,\n\u001b[1;32m     44\u001b[0m             word_split,\n\u001b[1;32m     45\u001b[0m             stroke_width,\n\u001b[1;32m     46\u001b[0m             stroke_fill,\n\u001b[1;32m     47\u001b[0m         )\n\u001b[1;32m     48\u001b[0m     \u001b[39melif\u001b[39;00m orientation \u001b[39m==\u001b[39m \u001b[39m1\u001b[39m:\n\u001b[1;32m     49\u001b[0m         \u001b[39mreturn\u001b[39;00m _generate_vertical_text(\n\u001b[1;32m     50\u001b[0m             text,\n\u001b[1;32m     51\u001b[0m             font,\n\u001b[0;32m   (...)\u001b[0m\n\u001b[1;32m     58\u001b[0m             stroke_fill,\n\u001b[1;32m     59\u001b[0m         )\n",
      "File \u001b[0;32m~/micromamba/lib/python3.9/site-packages/trdg/computer_text_generator.py:153\u001b[0m, in \u001b[0;36m_generate_horizontal_text\u001b[0;34m(text, font, text_color, font_size, space_width, character_spacing, fit, word_split, stroke_width, stroke_fill)\u001b[0m\n\u001b[1;32m    143\u001b[0m     txt_mask_draw\u001b[39m.\u001b[39mtext(\n\u001b[1;32m    144\u001b[0m         (\u001b[39msum\u001b[39m(piece_widths[\u001b[39m0\u001b[39m:i]) \u001b[39m+\u001b[39m i \u001b[39m*\u001b[39m character_spacing \u001b[39m*\u001b[39m \u001b[39mint\u001b[39m(\u001b[39mnot\u001b[39;00m word_split), \u001b[39m0\u001b[39m),\n\u001b[1;32m    145\u001b[0m         p,\n\u001b[0;32m   (...)\u001b[0m\n\u001b[1;32m    149\u001b[0m         stroke_fill\u001b[39m=\u001b[39mstroke_fill,\n\u001b[1;32m    150\u001b[0m     )\n\u001b[1;32m    152\u001b[0m \u001b[39mif\u001b[39;00m fit:\n\u001b[0;32m--> 153\u001b[0m     \u001b[39mreturn\u001b[39;00m txt_img\u001b[39m.\u001b[39mcrop(txt_img\u001b[39m.\u001b[39mgetbbox()), txt_mask\u001b[39m.\u001b[39;49mcrop(txt_img\u001b[39m.\u001b[39;49mgetbbox())\n\u001b[1;32m    154\u001b[0m \u001b[39melse\u001b[39;00m:\n\u001b[1;32m    155\u001b[0m     \u001b[39mreturn\u001b[39;00m txt_img, txt_mask\n",
      "File \u001b[0;32m~/micromamba/lib/python3.9/site-packages/PIL/Image.py:1234\u001b[0m, in \u001b[0;36mImage.crop\u001b[0;34m(self, box)\u001b[0m\n\u001b[1;32m   1231\u001b[0m     \u001b[39mraise\u001b[39;00m \u001b[39mValueError\u001b[39;00m(msg)\n\u001b[1;32m   1233\u001b[0m \u001b[39mself\u001b[39m\u001b[39m.\u001b[39mload()\n\u001b[0;32m-> 1234\u001b[0m \u001b[39mreturn\u001b[39;00m \u001b[39mself\u001b[39m\u001b[39m.\u001b[39m_new(\u001b[39mself\u001b[39;49m\u001b[39m.\u001b[39;49m_crop(\u001b[39mself\u001b[39;49m\u001b[39m.\u001b[39;49mim, box))\n",
      "File \u001b[0;32m~/micromamba/lib/python3.9/site-packages/PIL/Image.py:1254\u001b[0m, in \u001b[0;36mImage._crop\u001b[0;34m(self, im, box)\u001b[0m\n\u001b[1;32m   1250\u001b[0m absolute_values \u001b[39m=\u001b[39m (\u001b[39mabs\u001b[39m(x1 \u001b[39m-\u001b[39m x0), \u001b[39mabs\u001b[39m(y1 \u001b[39m-\u001b[39m y0))\n\u001b[1;32m   1252\u001b[0m _decompression_bomb_check(absolute_values)\n\u001b[0;32m-> 1254\u001b[0m \u001b[39mreturn\u001b[39;00m im\u001b[39m.\u001b[39;49mcrop((x0, y0, x1, y1))\n",
      "\u001b[0;31mKeyboardInterrupt\u001b[0m: "
     ]
    }
   ],
   "source": [
    "from tqdm import tqdm\n",
    "\n",
    "tmp_list = []\n",
    "\n",
    "for i in tqdm(range(last_file_index+1, 10000)):\n",
    "    \n",
    "    filename = f'{i:05d}.png'\n",
    "    sample = dataset[i]\n",
    "    \n",
    "    image = sample['pixels']\n",
    "    image.save(f'{folder}/{filename}')\n",
    "    \n",
    "    text = sample['text']\n",
    "    tmp_list.append([filename, text])\n",
    "\n",
    "    if i % 100 == 0:\n",
    "        df = df.append(pd.DataFrame(tmp_list, columns=['filename', 'text']))\n",
    "        df.to_csv(f'{folder}/metadata.csv', index=False)"
   ]
  },
  {
   "cell_type": "code",
   "execution_count": null,
   "metadata": {},
   "outputs": [],
   "source": []
  }
 ],
 "metadata": {
  "kernelspec": {
   "display_name": "base",
   "language": "python",
   "name": "python3"
  },
  "language_info": {
   "codemirror_mode": {
    "name": "ipython",
    "version": 3
   },
   "file_extension": ".py",
   "mimetype": "text/x-python",
   "name": "python",
   "nbconvert_exporter": "python",
   "pygments_lexer": "ipython3",
   "version": "3.9.16"
  },
  "orig_nbformat": 4
 },
 "nbformat": 4,
 "nbformat_minor": 2
}
