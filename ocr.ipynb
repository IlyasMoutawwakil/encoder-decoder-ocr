{
 "cells": [
  {
   "cell_type": "code",
   "execution_count": 1,
   "metadata": {},
   "outputs": [],
   "source": [
    "%reload_ext autoreload\n",
    "%autoreload 2"
   ]
  },
  {
   "cell_type": "code",
   "execution_count": 2,
   "metadata": {},
   "outputs": [],
   "source": [
    "import matplotlib.pyplot as plt\n",
    "plt.rcParams['figure.figsize'] = [16, 4]"
   ]
  },
  {
   "attachments": {},
   "cell_type": "markdown",
   "metadata": {},
   "source": [
    "# Configuration"
   ]
  },
  {
   "cell_type": "code",
   "execution_count": 3,
   "metadata": {},
   "outputs": [
    {
     "name": "stdout",
     "output_type": "stream",
     "text": [
      "Missing modules for handwritten text generation.\n"
     ]
    },
    {
     "name": "stderr",
     "output_type": "stream",
     "text": [
      "/home/ilyas/micromamba/envs/vision-encoder-decoder/lib/python3.9/site-packages/tqdm/auto.py:21: TqdmWarning: IProgress not found. Please update jupyter and ipywidgets. See https://ipywidgets.readthedocs.io/en/stable/user_install.html\n",
      "  from .autonotebook import tqdm as notebook_tqdm\n"
     ]
    }
   ],
   "source": [
    "# training config\n",
    "experiment_name = 'swin-autoregressive-ocr'\n",
    "\n",
    "batch_size = 2\n",
    "num_workers = 2\n",
    "\n",
    "max_train_steps = 1000\n",
    "max_val_steps = 100\n",
    "\n",
    "# environment config\n",
    "import torch\n",
    "use_cuda = torch.cuda.is_available()\n",
    "\n",
    "# tokenizer config\n",
    "from dataset.wikipedia_dataset import FRENCH_CHARACTERS\n",
    "characters = FRENCH_CHARACTERS\n",
    "model_max_length = 96\n",
    "bos_token_id = 0\n",
    "eos_token_id = 1\n",
    "pad_token_id = 2\n",
    "unk_token_id = 3\n",
    "\n",
    "# input image config\n",
    "height, width = 128, 640\n",
    "\n",
    "channels = 1\n",
    "pixel_mean = (0.5,) # for one channel\n",
    "pixel_std = (0.5,) # for one channel\n",
    "\n",
    "# encoder architecture config\n",
    "patch_size = 4\n",
    "window_size = 8\n",
    "# encoder architecture config\n",
    "embed_dim = 96\n",
    "depths = [2, 6, 2]\n",
    "num_heads = [6, 12, 24]\n",
    "\n",
    "# decoder architecture config\n",
    "dim = 384\n",
    "heads = 8\n",
    "dropout = 0.1\n",
    "activation = 'gelu'\n",
    "norm_first = False\n",
    "# decoder stack config\n",
    "num_layers = 4\n",
    "# language modeling config\n",
    "num_tokens = len(characters) + 4\n",
    "max_seq_len = model_max_length\n",
    "\n",
    "# optimizer config\n",
    "from timm.optim import AdamW\n",
    "optimizer_config = dict(\n",
    "    base_class=AdamW,\n",
    "    params=dict(\n",
    "        lr=1e-4,\n",
    "        betas=(0.9, 0.999),\n",
    "        eps=1e-8,\n",
    "        weight_decay=1e-2,\n",
    "    ),\n",
    ")\n",
    "\n",
    "# schedueler config\n",
    "from timm.scheduler.cosine_lr import CosineLRScheduler\n",
    "scheduler_config = dict(\n",
    "    base_class=CosineLRScheduler,\n",
    "    params=dict(\n",
    "        t_initial=200,\n",
    "        lr_min=1e-6,\n",
    "        cycle_mul=3,\n",
    "        cycle_decay=0.8,\n",
    "        cycle_limit=20,\n",
    "        warmup_t=20,\n",
    "        k_decay=1.5,\n",
    "    ),\n",
    ")"
   ]
  },
  {
   "attachments": {},
   "cell_type": "markdown",
   "metadata": {},
   "source": [
    "# Tokenizer"
   ]
  },
  {
   "cell_type": "code",
   "execution_count": 4,
   "metadata": {},
   "outputs": [],
   "source": [
    "from tokenization.character_tokenizer import CharacterTokenizer\n",
    "\n",
    "character_tokenizer = CharacterTokenizer(\n",
    "    characters=characters,\n",
    "    bos_token_id=bos_token_id,\n",
    "    eos_token_id=eos_token_id,\n",
    "    pad_token_id=pad_token_id,\n",
    "    unk_token_id=unk_token_id,\n",
    "    model_max_length=model_max_length,\n",
    ")"
   ]
  },
  {
   "attachments": {},
   "cell_type": "markdown",
   "metadata": {},
   "source": [
    "# Transform"
   ]
  },
  {
   "cell_type": "code",
   "execution_count": 5,
   "metadata": {},
   "outputs": [],
   "source": [
    "from torchvision.transforms import Compose, Resize, Grayscale, ToTensor, Normalize\n",
    "\n",
    "simple_transform = Compose([\n",
    "    Resize((height, width)),\n",
    "    Grayscale(),\n",
    "    ToTensor(),\n",
    "    Normalize(pixel_mean, pixel_std),\n",
    "])"
   ]
  },
  {
   "attachments": {},
   "cell_type": "markdown",
   "metadata": {},
   "source": [
    "# Dataset"
   ]
  },
  {
   "cell_type": "code",
   "execution_count": 6,
   "metadata": {},
   "outputs": [
    {
     "name": "stderr",
     "output_type": "stream",
     "text": [
      "Found cached dataset wikipedia (/home/ilyas/.cache/huggingface/datasets/wikipedia/20220301.fr/2.0.0/aa542ed919df55cc5d3347f42dd4521d05ca68751f50dbc32bae2a7f1e167559)\n",
      "Found cached dataset wikipedia (/home/ilyas/.cache/huggingface/datasets/wikipedia/20220301.fr/2.0.0/aa542ed919df55cc5d3347f42dd4521d05ca68751f50dbc32bae2a7f1e167559)\n",
      "Loading cached processed dataset at /home/ilyas/.cache/huggingface/datasets/wikipedia/20220301.fr/2.0.0/aa542ed919df55cc5d3347f42dd4521d05ca68751f50dbc32bae2a7f1e167559/cache-3e3b644afaa1b40a_*_of_00004.arrow\n",
      "Loading cached processed dataset at /home/ilyas/.cache/huggingface/datasets/wikipedia/20220301.fr/2.0.0/aa542ed919df55cc5d3347f42dd4521d05ca68751f50dbc32bae2a7f1e167559/cache-1499956ad50080bc_*_of_00004.arrow\n"
     ]
    }
   ],
   "source": [
    "from dataset.wikipedia_dataset import WikipediaTextLineDataModule\n",
    "\n",
    "data_module = WikipediaTextLineDataModule(\n",
    "    name='20220301.fr',\n",
    "    transform=simple_transform,\n",
    "    tokenizer=character_tokenizer,\n",
    "    batch_size=batch_size,\n",
    "    num_workers=num_workers,\n",
    "    characters=characters,\n",
    ")\n",
    "data_module.setup()"
   ]
  },
  {
   "attachments": {},
   "cell_type": "markdown",
   "metadata": {},
   "source": [
    "# Model"
   ]
  },
  {
   "cell_type": "code",
   "execution_count": 12,
   "metadata": {},
   "outputs": [
    {
     "name": "stderr",
     "output_type": "stream",
     "text": [
      "/home/ilyas/micromamba/envs/vision-encoder-decoder/lib/python3.9/site-packages/torch/functional.py:504: UserWarning: torch.meshgrid: in an upcoming release, it will be required to pass the indexing argument. (Triggered internally at ../aten/src/ATen/native/TensorShape.cpp:3483.)\n",
      "  return _VF.meshgrid(tensors, **kwargs)  # type: ignore[attr-defined]\n"
     ]
    }
   ],
   "source": [
    "from modeling.encoder import SwinTransformerEncoder\n",
    "from modeling.decoder import AutoregressiveTransformerDecoder\n",
    "from modeling.encoder_decoder import VisionEncoderLanguageDecoder\n",
    "from modeling.lightning_wrapper import VisionEncoderLanguageDecoderWrapper\n",
    "\n",
    "# create encoder\n",
    "vision_encoder = SwinTransformerEncoder(\n",
    "    img_size=(height, width),\n",
    "    patch_size=patch_size,\n",
    "    in_chans=channels,\n",
    "    embed_dim=embed_dim,\n",
    "    depths=depths,\n",
    "    num_heads=num_heads,\n",
    "    window_size=window_size,\n",
    ")\n",
    "\n",
    "# create autoregressive decoder\n",
    "language_decoder = AutoregressiveTransformerDecoder(\n",
    "    dim=dim,\n",
    "    heads=heads,\n",
    "    dropout=dropout,\n",
    "    activation=activation,\n",
    "    norm_first=norm_first,\n",
    "    \n",
    "    num_layers=num_layers,\n",
    "\n",
    "    num_tokens=num_tokens,\n",
    "    max_seq_len=max_seq_len,\n",
    "\n",
    "    bos_token_id=bos_token_id,\n",
    "    eos_token_id=eos_token_id,\n",
    "    pad_token_id=pad_token_id,\n",
    ")\n",
    "\n",
    "# create vision encoder decoder\n",
    "vision_encoder_language_decoder = VisionEncoderLanguageDecoder(\n",
    "    vision_encoder=vision_encoder,\n",
    "    language_decoder=language_decoder,\n",
    ")\n",
    "\n",
    "# create lightning model\n",
    "lightning_model = VisionEncoderLanguageDecoderWrapper(\n",
    "    model=vision_encoder_language_decoder,\n",
    "    tokenizer=character_tokenizer,\n",
    "    optimizer_config=optimizer_config,\n",
    "    scheduler_config=scheduler_config,\n",
    ")"
   ]
  },
  {
   "attachments": {},
   "cell_type": "markdown",
   "metadata": {},
   "source": [
    "# Callbacks"
   ]
  },
  {
   "cell_type": "code",
   "execution_count": 13,
   "metadata": {},
   "outputs": [],
   "source": [
    "import pytorch_lightning as pl\n",
    "\n",
    "prog_bar = pl.callbacks.progress.TQDMProgressBar(\n",
    "    refresh_rate=10,\n",
    ")\n",
    "\n",
    "logger = pl.loggers.TensorBoardLogger(\n",
    "    save_dir=f\"logs/{experiment_name}/\",\n",
    ")\n",
    "\n",
    "ckpt_callback = pl.callbacks.ModelCheckpoint(\n",
    "    dirpath=f\"checkpoints/{experiment_name}/\",\n",
    "    filename=\"checkpoint-{epoch:03d}-{val_cer:.5f}-{val_acc:.5f}\",\n",
    "    monitor=\"val_cer\",\n",
    "    save_last=True,\n",
    "    save_top_k=3,\n",
    "    mode=\"min\",\n",
    ")\n",
    "\n",
    "lr_monitor = pl.callbacks.LearningRateMonitor(\n",
    "    logging_interval=\"step\",\n",
    ")"
   ]
  },
  {
   "attachments": {},
   "cell_type": "markdown",
   "metadata": {},
   "source": [
    "# Training"
   ]
  },
  {
   "cell_type": "code",
   "execution_count": 14,
   "metadata": {},
   "outputs": [
    {
     "name": "stderr",
     "output_type": "stream",
     "text": [
      "GPU available: False, used: False\n",
      "TPU available: False, using: 0 TPU cores\n",
      "IPU available: False, using: 0 IPUs\n",
      "HPU available: False, using: 0 HPUs\n"
     ]
    }
   ],
   "source": [
    "trainer = pl.Trainer(\n",
    "    accelerator=\"gpu\" if use_cuda else 'cpu',\n",
    "\n",
    "    log_every_n_steps=1,\n",
    "    num_sanity_val_steps=1,\n",
    "\n",
    "    limit_val_batches=max_val_steps,\n",
    "    limit_train_batches=max_train_steps,\n",
    "\n",
    "    callbacks=[ckpt_callback, lr_monitor, prog_bar],\n",
    "    enable_progress_bar=True,\n",
    "    logger=logger,\n",
    ")"
   ]
  },
  {
   "cell_type": "code",
   "execution_count": 15,
   "metadata": {},
   "outputs": [
    {
     "name": "stderr",
     "output_type": "stream",
     "text": [
      "/home/ilyas/micromamba/envs/vision-encoder-decoder/lib/python3.9/site-packages/pytorch_lightning/loops/utilities.py:70: PossibleUserWarning: `max_epochs` was not set. Setting it to 1000 epochs. To train without an epoch limit, set `max_epochs=-1`.\n",
      "  rank_zero_warn(\n",
      "\n",
      "  | Name  | Type                         | Params\n",
      "-------------------------------------------------------\n",
      "0 | model | VisionEncoderLanguageDecoder | 18.4 M\n",
      "-------------------------------------------------------\n",
      "18.4 M    Trainable params\n",
      "0         Non-trainable params\n",
      "18.4 M    Total params\n",
      "73.654    Total estimated model params size (MB)\n"
     ]
    },
    {
     "name": "stdout",
     "output_type": "stream",
     "text": [
      "Epoch 0:   0%|          | 0/1000 [00:00<?, ?it/s]                          "
     ]
    }
   ],
   "source": [
    "trainer.fit(\n",
    "    lightning_model,\n",
    "    train_dataloaders=data_module.train_dataloader(),\n",
    "    val_dataloaders=data_module.val_dataloader(),\n",
    ")"
   ]
  },
  {
   "cell_type": "code",
   "execution_count": null,
   "metadata": {},
   "outputs": [],
   "source": [
    "%tensorboard --logdir logs"
   ]
  },
  {
   "cell_type": "code",
   "execution_count": null,
   "metadata": {},
   "outputs": [],
   "source": []
  }
 ],
 "metadata": {
  "kernelspec": {
   "display_name": "transformers-ocr",
   "language": "python",
   "name": "python3"
  },
  "language_info": {
   "codemirror_mode": {
    "name": "ipython",
    "version": 3
   },
   "file_extension": ".py",
   "mimetype": "text/x-python",
   "name": "python",
   "nbconvert_exporter": "python",
   "pygments_lexer": "ipython3",
   "version": "3.9.16"
  },
  "orig_nbformat": 4,
  "vscode": {
   "interpreter": {
    "hash": "85c6ade6c056b4aa49aed133be44910d191c2ad4e7376de8c6cbfeddc3110f47"
   }
  }
 },
 "nbformat": 4,
 "nbformat_minor": 2
}
