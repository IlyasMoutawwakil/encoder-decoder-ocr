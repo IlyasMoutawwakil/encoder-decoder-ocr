{
 "cells": [
  {
   "cell_type": "code",
   "execution_count": 1,
   "metadata": {},
   "outputs": [],
   "source": [
    "%reload_ext autoreload\n",
    "%autoreload 2"
   ]
  },
  {
   "cell_type": "code",
   "execution_count": 2,
   "metadata": {},
   "outputs": [],
   "source": [
    "import matplotlib.pyplot as plt\n",
    "plt.rcParams['figure.figsize'] = [16, 4]"
   ]
  },
  {
   "attachments": {},
   "cell_type": "markdown",
   "metadata": {},
   "source": [
    "# Configuration"
   ]
  },
  {
   "cell_type": "code",
   "execution_count": 33,
   "metadata": {},
   "outputs": [],
   "source": [
    "# training config\n",
    "\n",
    "import torch\n",
    "\n",
    "# training config\n",
    "experiment_name = 'swin-autoregressive-ocr'\n",
    "use_cuda = torch.cuda.is_available()\n",
    "\n",
    "max_train_steps = 1000\n",
    "max_val_steps = 100\n",
    "\n",
    "# tokenizer config\n",
    "\n",
    "characters = '0123456789' + \"\"\"!\"#$£€%§&½'°()*+,-./:;<=>?@[\\]^_`{|}~“”‘’«» \"\"\" + 'ABCDEFGHIJKLMNOPQRSTUVWXYZ' + \\\n",
    "    'abcdefghijklmnopqrstuvwxyz' + 'ÀÂÆÇÉÈÊËÎÏÔŒÙÛÜŸ' + 'àâæçéèêëîïôœùûüÿ'\n",
    "\n",
    "model_max_length = 96\n",
    "\n",
    "bos_token_id = 0\n",
    "eos_token_id = 1\n",
    "pad_token_id = 2\n",
    "unk_token_id = 3\n",
    "\n",
    "# dataset config\n",
    "\n",
    "dataset_name = '20220301.fr'\n",
    "batch_size = 2\n",
    "num_workers = 4\n",
    "\n",
    "# transform config\n",
    "\n",
    "height, width = 128, 640\n",
    "channels = 1\n",
    "\n",
    "pixel_mean = (0.5,)  # for one channel\n",
    "pixel_std = (0.5,)  # for one channel\n",
    "\n",
    "# encoder architecture config\n",
    "encoder_config = dict(\n",
    "    img_size=(height, width),\n",
    "    in_chans=channels,\n",
    "    patch_size=4,\n",
    "    window_size=8,\n",
    "    embed_dim=96,\n",
    "    depths=[2, 6, 2],\n",
    "    num_heads=[6, 12, 24],\n",
    ")\n",
    "\n",
    "# decoder architecture config\n",
    "decoder_config = dict(\n",
    "    dim=384,\n",
    "    heads=8,\n",
    "    dropout=0.1,\n",
    "    activation='gelu',\n",
    "    norm_first=True,\n",
    "\n",
    "    num_layers=4,\n",
    "\n",
    "    num_tokens=len(characters) + 4,\n",
    "    max_seq_len=model_max_length,\n",
    "\n",
    "    bos_token_id=bos_token_id,\n",
    "    eos_token_id=eos_token_id,\n",
    "    pad_token_id=pad_token_id,\n",
    ")\n",
    "\n",
    "# optimizer config\n",
    "\n",
    "optimizer_config = dict(\n",
    "    lr=1e-4,\n",
    "    betas=(0.9, 0.999),\n",
    "    eps=1e-8,\n",
    "    weight_decay=1e-2,\n",
    ")\n",
    "\n",
    "# schedueler config\n",
    "scheduler_config = dict(\n",
    "    t_initial=200,\n",
    "    lr_min=1e-6,\n",
    "    cycle_mul=3,\n",
    "    cycle_decay=0.8,\n",
    "    cycle_limit=20,\n",
    "    warmup_t=20,\n",
    "    k_decay=1.5,\n",
    ")\n"
   ]
  },
  {
   "attachments": {},
   "cell_type": "markdown",
   "metadata": {},
   "source": [
    "# Tokenizer"
   ]
  },
  {
   "cell_type": "code",
   "execution_count": 34,
   "metadata": {},
   "outputs": [],
   "source": [
    "from tokenization.character_tokenizer import CharacterTokenizer\n",
    "\n",
    "character_tokenizer = CharacterTokenizer(\n",
    "    characters=characters,\n",
    "    bos_token_id=bos_token_id,\n",
    "    eos_token_id=eos_token_id,\n",
    "    pad_token_id=pad_token_id,\n",
    "    unk_token_id=unk_token_id,\n",
    "    model_max_length=model_max_length,\n",
    ")"
   ]
  },
  {
   "attachments": {},
   "cell_type": "markdown",
   "metadata": {},
   "source": [
    "# Transform"
   ]
  },
  {
   "cell_type": "code",
   "execution_count": 35,
   "metadata": {},
   "outputs": [],
   "source": [
    "from torchvision.transforms import Compose, Resize, Grayscale, ToTensor, Normalize\n",
    "\n",
    "simple_transform = Compose([\n",
    "    Resize((height, width)),\n",
    "    Grayscale(),\n",
    "    ToTensor(),\n",
    "    Normalize(pixel_mean, pixel_std),\n",
    "])"
   ]
  },
  {
   "attachments": {},
   "cell_type": "markdown",
   "metadata": {},
   "source": [
    "# Dataset"
   ]
  },
  {
   "cell_type": "code",
   "execution_count": 36,
   "metadata": {},
   "outputs": [],
   "source": [
    "from dataset.wikipedia_dataset import WikipediaTextLineDataModule\n",
    "\n",
    "datamodule = WikipediaTextLineDataModule(\n",
    "    dataset_name=dataset_name,\n",
    "    transform=simple_transform,\n",
    "    tokenizer=character_tokenizer,\n",
    "    batch_size=batch_size,\n",
    "    num_workers=num_workers,\n",
    "    characters=characters,\n",
    ")"
   ]
  },
  {
   "attachments": {},
   "cell_type": "markdown",
   "metadata": {},
   "source": [
    "# Model"
   ]
  },
  {
   "cell_type": "code",
   "execution_count": 37,
   "metadata": {},
   "outputs": [],
   "source": [
    "from modeling.encoder import SwinTransformerEncoder\n",
    "from modeling.decoder import AutoregressiveTransformerDecoder\n",
    "from modeling.encoder_decoder import VisionEncoderLanguageDecoder\n",
    "from modeling.lightning_wrapper import VisionEncoderLanguageDecoderWrapper\n",
    "\n",
    "# create encoder\n",
    "vision_encoder = SwinTransformerEncoder(\n",
    "    **encoder_config\n",
    ")\n",
    "\n",
    "# create autoregressive decoder\n",
    "language_decoder = AutoregressiveTransformerDecoder(\n",
    "    **decoder_config\n",
    ")\n",
    "\n",
    "# create vision encoder decoder\n",
    "vision_encoder_language_decoder = VisionEncoderLanguageDecoder(\n",
    "    vision_encoder=vision_encoder,\n",
    "    language_decoder=language_decoder,\n",
    ")\n",
    "\n",
    "# create lightning model\n",
    "lightning_model = VisionEncoderLanguageDecoderWrapper(\n",
    "    model=vision_encoder_language_decoder,\n",
    "    tokenizer=character_tokenizer,\n",
    "    optimizer_config=optimizer_config,\n",
    "    scheduler_config=scheduler_config,\n",
    ")"
   ]
  },
  {
   "attachments": {},
   "cell_type": "markdown",
   "metadata": {},
   "source": [
    "# Callbacks"
   ]
  },
  {
   "cell_type": "code",
   "execution_count": 38,
   "metadata": {},
   "outputs": [],
   "source": [
    "import pytorch_lightning as pl\n",
    "\n",
    "prog_bar = pl.callbacks.progress.TQDMProgressBar(\n",
    "    refresh_rate=1,\n",
    ")\n",
    "\n",
    "logger = pl.loggers.TensorBoardLogger(\n",
    "    save_dir=f\"logs/{experiment_name}/\",\n",
    ")\n",
    "\n",
    "ckpt_callback = pl.callbacks.ModelCheckpoint(\n",
    "    dirpath=f\"checkpoints/{experiment_name}/\",\n",
    "    filename=\"checkpoint-{epoch:03d}-{val_cer:.5f}\",\n",
    "    monitor=\"val_cer\",\n",
    "    save_last=True,\n",
    "    save_top_k=3,\n",
    "    mode=\"min\",\n",
    ")\n",
    "\n",
    "lr_monitor = pl.callbacks.LearningRateMonitor(\n",
    "    logging_interval=\"step\",\n",
    ")"
   ]
  },
  {
   "attachments": {},
   "cell_type": "markdown",
   "metadata": {},
   "source": [
    "# Training"
   ]
  },
  {
   "cell_type": "code",
   "execution_count": 39,
   "metadata": {},
   "outputs": [
    {
     "name": "stderr",
     "output_type": "stream",
     "text": [
      "GPU available: False, used: False\n",
      "TPU available: False, using: 0 TPU cores\n",
      "IPU available: False, using: 0 IPUs\n",
      "HPU available: False, using: 0 HPUs\n"
     ]
    }
   ],
   "source": [
    "trainer = pl.Trainer(\n",
    "    accelerator=\"gpu\" if use_cuda else 'cpu',\n",
    "\n",
    "    log_every_n_steps=1,\n",
    "    num_sanity_val_steps=1,\n",
    "    \n",
    "    max_epochs=-1,\n",
    "    limit_val_batches=max_val_steps,\n",
    "    limit_train_batches=max_train_steps,\n",
    "\n",
    "    callbacks=[ckpt_callback, lr_monitor, prog_bar],\n",
    "    enable_progress_bar=True,\n",
    "    logger=logger,\n",
    ")"
   ]
  },
  {
   "cell_type": "code",
   "execution_count": 40,
   "metadata": {},
   "outputs": [
    {
     "name": "stderr",
     "output_type": "stream",
     "text": [
      "Found cached dataset wikipedia (/home/ilyas/.cache/huggingface/datasets/wikipedia/20220301.fr/2.0.0/aa542ed919df55cc5d3347f42dd4521d05ca68751f50dbc32bae2a7f1e167559)\n",
      "Found cached dataset wikipedia (/home/ilyas/.cache/huggingface/datasets/wikipedia/20220301.fr/2.0.0/aa542ed919df55cc5d3347f42dd4521d05ca68751f50dbc32bae2a7f1e167559)\n",
      "Found cached dataset wikipedia (/home/ilyas/.cache/huggingface/datasets/wikipedia/20220301.fr/2.0.0/aa542ed919df55cc5d3347f42dd4521d05ca68751f50dbc32bae2a7f1e167559)\n",
      "Found cached dataset wikipedia (/home/ilyas/.cache/huggingface/datasets/wikipedia/20220301.fr/2.0.0/aa542ed919df55cc5d3347f42dd4521d05ca68751f50dbc32bae2a7f1e167559)\n",
      "Loading cached processed dataset at /home/ilyas/.cache/huggingface/datasets/wikipedia/20220301.fr/2.0.0/aa542ed919df55cc5d3347f42dd4521d05ca68751f50dbc32bae2a7f1e167559/cache-3e3b644afaa1b40a_*_of_00004.arrow\n",
      "Loading cached processed dataset at /home/ilyas/.cache/huggingface/datasets/wikipedia/20220301.fr/2.0.0/aa542ed919df55cc5d3347f42dd4521d05ca68751f50dbc32bae2a7f1e167559/cache-1499956ad50080bc_*_of_00004.arrow\n",
      "\n",
      "  | Name  | Type                         | Params\n",
      "-------------------------------------------------------\n",
      "0 | model | VisionEncoderLanguageDecoder | 16.8 M\n",
      "-------------------------------------------------------\n",
      "16.8 M    Trainable params\n",
      "0         Non-trainable params\n",
      "16.8 M    Total params\n",
      "67.335    Total estimated model params size (MB)\n"
     ]
    },
    {
     "name": "stdout",
     "output_type": "stream",
     "text": [
      "Epoch 0:   2%|▏         | 18/1000 [00:23<21:37,  1.32s/it, v_num=3, train_loss=3.870]"
     ]
    },
    {
     "name": "stderr",
     "output_type": "stream",
     "text": [
      "/home/ilyas/micromamba/envs/vision-encoder-decoder/lib/python3.9/site-packages/pytorch_lightning/trainer/call.py:54: UserWarning: Detected KeyboardInterrupt, attempting graceful shutdown...\n",
      "  rank_zero_warn(\"Detected KeyboardInterrupt, attempting graceful shutdown...\")\n"
     ]
    }
   ],
   "source": [
    "trainer.fit(\n",
    "    model=lightning_model,\n",
    "    datamodule=datamodule,\n",
    ")"
   ]
  },
  {
   "cell_type": "code",
   "execution_count": null,
   "metadata": {},
   "outputs": [],
   "source": [
    "%tensorboard --logdir logs"
   ]
  },
  {
   "cell_type": "code",
   "execution_count": null,
   "metadata": {},
   "outputs": [],
   "source": []
  }
 ],
 "metadata": {
  "kernelspec": {
   "display_name": "transformers-ocr",
   "language": "python",
   "name": "python3"
  },
  "language_info": {
   "codemirror_mode": {
    "name": "ipython",
    "version": 3
   },
   "file_extension": ".py",
   "mimetype": "text/x-python",
   "name": "python",
   "nbconvert_exporter": "python",
   "pygments_lexer": "ipython3",
   "version": "3.9.16"
  },
  "orig_nbformat": 4,
  "vscode": {
   "interpreter": {
    "hash": "85c6ade6c056b4aa49aed133be44910d191c2ad4e7376de8c6cbfeddc3110f47"
   }
  }
 },
 "nbformat": 4,
 "nbformat_minor": 2
}
